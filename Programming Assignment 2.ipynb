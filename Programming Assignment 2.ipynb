{
  "nbformat": 4,
  "nbformat_minor": 0,
  "metadata": {
    "colab": {
      "provenance": [],
      "authorship_tag": "ABX9TyPKe1z1+H7BdqKMcPwzrsZ0",
      "include_colab_link": true
    },
    "kernelspec": {
      "name": "python3",
      "display_name": "Python 3"
    },
    "language_info": {
      "name": "python"
    }
  },
  "cells": [
    {
      "cell_type": "markdown",
      "metadata": {
        "id": "view-in-github",
        "colab_type": "text"
      },
      "source": [
        "<a href=\"https://colab.research.google.com/github/StephenManoharGurram/Programming-Assignment-1/blob/main/Programming%20Assignment%202.ipynb\" target=\"_parent\"><img src=\"https://colab.research.google.com/assets/colab-badge.svg\" alt=\"Open In Colab\"/></a>"
      ]
    },
    {
      "cell_type": "code",
      "execution_count": 6,
      "metadata": {
        "colab": {
          "base_uri": "https://localhost:8080/"
        },
        "id": "pLv-T5wHXBvt",
        "outputId": "5e880313-20e0-4c3b-db67-b559da6d282f"
      },
      "outputs": [
        {
          "output_type": "stream",
          "name": "stdout",
          "text": [
            "* \n",
            "* * \n",
            "* * * \n",
            "* * * * \n",
            "* * * * * \n",
            "* * * * \n",
            "* * * \n",
            "* * \n",
            "* \n"
          ]
        }
      ],
      "source": [
        "# Number of rows for the top half of the pattern\n",
        "n = 5\n",
        "\n",
        "# Top half of the pattern\n",
        "for i in range(1, n + 1):\n",
        "    print('* ' * i)\n",
        "\n",
        "# Bottom half of the pattern\n",
        "for i in range(n - 1, 0, -1):\n",
        "    print('* ' * i)\n"
      ]
    },
    {
      "cell_type": "code",
      "source": [
        "# Provided list\n",
        "my_list = [10, 20, 30, 40, 50, 60, 70, 80, 90, 100]\n",
        "\n",
        "# Loop through the list and print elements at odd indexes\n",
        "for i in range(1, len(my_list), 2):\n",
        "    print(my_list[i])\n"
      ],
      "metadata": {
        "colab": {
          "base_uri": "https://localhost:8080/"
        },
        "id": "6w4chFrHXvl5",
        "outputId": "3d08d395-e317-4f07-b1ee-f9c5dd6e7c98"
      },
      "execution_count": 7,
      "outputs": [
        {
          "output_type": "stream",
          "name": "stdout",
          "text": [
            "20\n",
            "40\n",
            "60\n",
            "80\n",
            "100\n"
          ]
        }
      ]
    },
    {
      "cell_type": "code",
      "source": [
        "# Input list\n",
        "x = [23, 'Python', 23.98]\n",
        "\n",
        "# List to store the types of elements\n",
        "types_list = []\n",
        "\n",
        "# Loop through the list and append the type of each element to the types_list\n",
        "for element in x:\n",
        "    types_list.append(type(element))\n",
        "\n",
        "# Print the original list\n",
        "print(x)\n",
        "\n",
        "# Print the list of types\n",
        "print(types_list)\n"
      ],
      "metadata": {
        "colab": {
          "base_uri": "https://localhost:8080/"
        },
        "id": "aRSOKHZFYKhh",
        "outputId": "6522fec9-82e2-44df-8fa2-dc2fe4b8b4e4"
      },
      "execution_count": 8,
      "outputs": [
        {
          "output_type": "stream",
          "name": "stdout",
          "text": [
            "[23, 'Python', 23.98]\n",
            "[<class 'int'>, <class 'str'>, <class 'float'>]\n"
          ]
        }
      ]
    },
    {
      "cell_type": "code",
      "source": [
        "def get_unique_items(input_list):\n",
        "    # Use a set to get unique items, then convert it back to a list\n",
        "    unique_list = list(set(input_list))\n",
        "    return unique_list\n",
        "\n",
        "# Sample list\n",
        "sample_list = [1, 2, 3, 3, 3, 3, 4, 5]\n",
        "\n",
        "# Get the unique list\n",
        "unique_list = get_unique_items(sample_list)\n",
        "\n",
        "# Print the unique list\n",
        "print(\"Sample List:\", sample_list)\n",
        "print(\"Unique List:\", unique_list)\n"
      ],
      "metadata": {
        "colab": {
          "base_uri": "https://localhost:8080/"
        },
        "id": "WhkHpeuXYa6U",
        "outputId": "cc46ec8c-bb4c-412a-8cad-c97981e8a0db"
      },
      "execution_count": 9,
      "outputs": [
        {
          "output_type": "stream",
          "name": "stdout",
          "text": [
            "Sample List: [1, 2, 3, 3, 3, 3, 4, 5]\n",
            "Unique List: [1, 2, 3, 4, 5]\n"
          ]
        }
      ]
    },
    {
      "cell_type": "code",
      "source": [
        "def count_case_letters(input_string):\n",
        "    upper_case_count = 0\n",
        "    lower_case_count = 0\n",
        "\n",
        "    for char in input_string:\n",
        "        if char.isupper():\n",
        "            upper_case_count += 1\n",
        "        elif char.islower():\n",
        "            lower_case_count += 1\n",
        "\n",
        "    return upper_case_count, lower_case_count\n",
        "\n",
        "# Input string\n",
        "input_string = 'The quick Brow Fox'\n",
        "\n",
        "# Get the counts of upper-case and lower-case characters\n",
        "upper_case_count, lower_case_count = count_case_letters(input_string)\n",
        "\n",
        "# Print the results\n",
        "print(\"No. of Upper-case characters:\", upper_case_count)\n",
        "print(\"No. of Lower-case characters:\", lower_case_count)\n"
      ],
      "metadata": {
        "colab": {
          "base_uri": "https://localhost:8080/"
        },
        "id": "GhdQE0yzYnfz",
        "outputId": "ec14dd2a-68b3-4949-950b-9ec4fd1c2396"
      },
      "execution_count": 10,
      "outputs": [
        {
          "output_type": "stream",
          "name": "stdout",
          "text": [
            "No. of Upper-case characters: 3\n",
            "No. of Lower-case characters: 12\n"
          ]
        }
      ]
    }
  ]
}