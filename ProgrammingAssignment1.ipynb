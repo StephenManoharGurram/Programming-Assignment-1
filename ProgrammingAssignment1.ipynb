{
  "nbformat": 4,
  "nbformat_minor": 0,
  "metadata": {
    "colab": {
      "provenance": [],
      "authorship_tag": "ABX9TyMdHHhFB0PNZkiQEP9f4Aav",
      "include_colab_link": true
    },
    "kernelspec": {
      "name": "python3",
      "display_name": "Python 3"
    },
    "language_info": {
      "name": "python"
    }
  },
  "cells": [
    {
      "cell_type": "markdown",
      "metadata": {
        "id": "view-in-github",
        "colab_type": "text"
      },
      "source": [
        "<a href=\"https://colab.research.google.com/github/StephenManoharGurram/Programming-Assignment-1/blob/main/ProgrammingAssignment1.ipynb\" target=\"_parent\"><img src=\"https://colab.research.google.com/assets/colab-badge.svg\" alt=\"Open In Colab\"/></a>"
      ]
    },
    {
      "cell_type": "markdown",
      "source": [
        "The following is a list of 10 students ages:\n",
        "ages = [19, 22, 19, 24, 20, 25, 26, 24, 25, 24]\n",
        "• Sort the list and find the min and max age\n",
        "• Add the min age and the max age again to the list\n",
        "• Find the median age (one middle item or two middle items divided by two)\n",
        "• Find the average age (sum of all items divided by their number)\n",
        "• Find the range of the ages (max minus min)"
      ],
      "metadata": {
        "id": "lsB9i6sjkMg8"
      }
    },
    {
      "cell_type": "code",
      "source": [
        "ages = [19, 22, 19, 24, 20, 25, 26, 24, 25, 24]\n",
        "ages_sorted = sorted(ages)\n",
        "min_age = ages_sorted[0]\n",
        "max_age = ages_sorted[-1]\n",
        "print(\"Sorted Ages:\", ages_sorted)\n",
        "print(\"Minimum Age:\", min_age)\n",
        "print(\"Maximum Age:\", max_age)\n"
      ],
      "metadata": {
        "colab": {
          "base_uri": "https://localhost:8080/"
        },
        "id": "sLtJXBF-jcmK",
        "outputId": "de882922-0282-4fcc-90a4-adea532a8ceb"
      },
      "execution_count": null,
      "outputs": [
        {
          "output_type": "stream",
          "name": "stdout",
          "text": [
            "Sorted Ages: [19, 19, 20, 22, 24, 24, 24, 25, 25, 26]\n",
            "Minimum Age: 19\n",
            "Maximum Age: 26\n"
          ]
        }
      ]
    },
    {
      "cell_type": "code",
      "source": [
        "ages_sorted.append(min_age)\n",
        "ages_sorted.append(max_age)\n",
        "print(\"Ages with Min and Max Added Again:\", ages_sorted)\n"
      ],
      "metadata": {
        "colab": {
          "base_uri": "https://localhost:8080/"
        },
        "id": "jcHNMZXzjhb8",
        "outputId": "4e416144-118e-4895-838d-00465c1bd611"
      },
      "execution_count": null,
      "outputs": [
        {
          "output_type": "stream",
          "name": "stdout",
          "text": [
            "Ages with Min and Max Added Again: [19, 19, 20, 22, 24, 24, 24, 25, 25, 26, 19, 26]\n"
          ]
        }
      ]
    },
    {
      "cell_type": "code",
      "source": [
        "n = len(ages_sorted)\n",
        "if n % 2 == 0:\n",
        "    median_age = (ages_sorted[n//2 - 1] + ages_sorted[n//2]) / 2\n",
        "else:\n",
        "    median_age = ages_sorted[n//2]\n",
        "print(\"Median Age:\", median_age)\n"
      ],
      "metadata": {
        "colab": {
          "base_uri": "https://localhost:8080/"
        },
        "id": "cbDcBsGDjm8v",
        "outputId": "82daf643-b4ee-4d90-e280-bc1edea68c28"
      },
      "execution_count": null,
      "outputs": [
        {
          "output_type": "stream",
          "name": "stdout",
          "text": [
            "Median Age: 24.0\n"
          ]
        }
      ]
    },
    {
      "cell_type": "code",
      "source": [
        "average_age = sum(ages_sorted) / len(ages_sorted)\n",
        "print(\"Average Age:\", average_age)\n"
      ],
      "metadata": {
        "colab": {
          "base_uri": "https://localhost:8080/"
        },
        "id": "eH4XBlWKjo3v",
        "outputId": "c7c02cad-49ac-402a-f533-c418875e0fb0"
      },
      "execution_count": null,
      "outputs": [
        {
          "output_type": "stream",
          "name": "stdout",
          "text": [
            "Average Age: 22.75\n"
          ]
        }
      ]
    },
    {
      "cell_type": "code",
      "source": [
        "age_range = max_age - min_age\n",
        "print(\"Range of Ages:\", age_range)\n"
      ],
      "metadata": {
        "colab": {
          "base_uri": "https://localhost:8080/"
        },
        "id": "IPQw3whAjwE6",
        "outputId": "6f088abb-edd0-40e9-898d-4b810123ba08"
      },
      "execution_count": null,
      "outputs": [
        {
          "output_type": "stream",
          "name": "stdout",
          "text": [
            "Range of Ages: 7\n"
          ]
        }
      ]
    },
    {
      "cell_type": "markdown",
      "source": [
        "• Create an empty dictionary called dog\n",
        "• Add name, color, breed, legs, age to the dog dictionary\n",
        "• Create a student dictionary and add first_name, last_name, gender, age, marital status,\n",
        "skills, country, city and address as keys for the dictionary\n",
        "• Get the length of the student dictionary\n",
        "• Get the value of skills and check the data type, it should be a list\n",
        "• Modify the skills values by adding one or two skills\n",
        "• Get the dictionary keys as a list\n",
        "• Get the dictionary values as a list"
      ],
      "metadata": {
        "id": "cvTyvK08kKJi"
      }
    },
    {
      "cell_type": "code",
      "source": [
        "# Create an empty dictionary called dog\n",
        "dog = {}\n",
        "\n",
        "# Add name, color, breed, legs, age to the dog dictionary\n",
        "dog['name'] = 'Buddy'\n",
        "dog['color'] = 'Brown'\n",
        "dog['breed'] = 'Labrador'\n",
        "dog['legs'] = 4\n",
        "dog['age'] = 5\n",
        "\n",
        "# Create a student dictionary\n",
        "student = {\n",
        "    'first_name': 'John',\n",
        "    'last_name': 'Doe',\n",
        "    'gender': 'Male',\n",
        "    'age': 22,\n",
        "    'marital_status': 'Single',\n",
        "    'skills': ['Python', 'Java', 'SQL'],\n",
        "    'country': 'USA',\n",
        "    'city': 'New York',\n",
        "    'address': '123 Main St'\n",
        "}\n",
        "\n",
        "# Get the length of the student dictionary\n",
        "student_length = len(student)\n",
        "print(\"Length of Student Dictionary:\", student_length)\n",
        "\n",
        "# Get the value of skills and check the data type\n",
        "skills_value = student['skills']\n",
        "print(\"Skills:\", skills_value)\n",
        "print(\"Type of Skills Value:\", type(skills_value))\n",
        "\n",
        "# Modify the skills values by adding one or two skills\n",
        "student['skills'].extend(['JavaScript', 'HTML'])\n",
        "print(\"Modified Skills:\", student['skills'])\n",
        "\n",
        "# Get the dictionary keys as a list\n",
        "keys_list = list(student.keys())\n",
        "print(\"Keys List:\", keys_list)\n",
        "\n",
        "# Get the dictionary values as a list\n",
        "values_list = list(student.values())\n",
        "print(\"Values List:\", values_list)\n"
      ],
      "metadata": {
        "colab": {
          "base_uri": "https://localhost:8080/"
        },
        "id": "8d_1lMqXkVGh",
        "outputId": "1cf50a95-f8f7-4120-90d0-b3fb51e14e3f"
      },
      "execution_count": null,
      "outputs": [
        {
          "output_type": "stream",
          "name": "stdout",
          "text": [
            "Length of Student Dictionary: 9\n",
            "Skills: ['Python', 'Java', 'SQL']\n",
            "Type of Skills Value: <class 'list'>\n",
            "Modified Skills: ['Python', 'Java', 'SQL', 'JavaScript', 'HTML']\n",
            "Keys List: ['first_name', 'last_name', 'gender', 'age', 'marital_status', 'skills', 'country', 'city', 'address']\n",
            "Values List: ['John', 'Doe', 'Male', 22, 'Single', ['Python', 'Java', 'SQL', 'JavaScript', 'HTML'], 'USA', 'New York', '123 Main St']\n"
          ]
        }
      ]
    },
    {
      "cell_type": "markdown",
      "source": [
        "Create a tuple containing names of your sisters and your brothers (imaginary siblings are\n",
        "fine)\n",
        "• Join brothers and sisters tuples and assign it to siblings\n",
        "• How many siblings do you have?\n",
        "• Modify the siblings tuple and add the name of your father and mother and assign it to\n",
        "family_members"
      ],
      "metadata": {
        "id": "vAsFwqhGkqDa"
      }
    },
    {
      "cell_type": "code",
      "source": [
        "# Create a tuple containing names of your sisters and your brothers\n",
        "sisters = ('Emily', 'Sophie')\n",
        "brothers = ('Michael', 'Daniel')\n",
        "\n",
        "# Join brothers and sisters tuples and assign it to siblings\n",
        "siblings = brothers + sisters\n",
        "\n",
        "# How many siblings do you have?\n",
        "num_siblings = len(siblings)\n",
        "print(\"Number of Siblings:\", num_siblings)\n",
        "\n",
        "# Modify the siblings tuple and add the name of your father and mother and assign it to family_members\n",
        "father = 'John'\n",
        "mother = 'Mary'\n",
        "family_members = (father, mother) + siblings\n",
        "\n",
        "print(\"Family Members:\", family_members)\n"
      ],
      "metadata": {
        "colab": {
          "base_uri": "https://localhost:8080/"
        },
        "id": "mxq4vCBmkr6v",
        "outputId": "7cebea68-3151-4ec6-a084-d57b7ab5d8a3"
      },
      "execution_count": null,
      "outputs": [
        {
          "output_type": "stream",
          "name": "stdout",
          "text": [
            "Number of Siblings: 4\n",
            "Family Members: ('John', 'Mary', 'Michael', 'Daniel', 'Emily', 'Sophie')\n"
          ]
        }
      ]
    },
    {
      "cell_type": "markdown",
      "source": [
        "it_companies = {'Facebook', 'Google', 'Microsoft', 'Apple', 'IBM', 'Oracle', 'Amazon'}\n",
        "A = {19, 22, 24, 20, 25, 26}\n",
        "B = {19, 22, 20, 25, 26, 24, 28, 27}\n",
        "age = [22, 19, 24, 25, 26, 24, 25, 24]\n",
        "• Find the length of the set it_companies\n",
        "• Add 'Twitter' to it_companies\n",
        "• Insert multiple IT companies at once to the set it_companies\n",
        "• Remove one of the companies from the set it_companies\n",
        "• What is the difference between remove and discard\n",
        "• Join A and B\n",
        "• Find A intersection B\n",
        "• Is A subset of B\n",
        "• Are A and B disjoint sets\n",
        "• Join A with B and B with A\n",
        "• What is the symmetric difference between A and B\n",
        "• Delete the sets completely\n",
        "• Convert the ages to a set and compare the length of the list and the set."
      ],
      "metadata": {
        "id": "kCI3a6H1kzAL"
      }
    },
    {
      "cell_type": "code",
      "source": [
        "# Given sets and list\n",
        "it_companies = {'Facebook', 'Google', 'Microsoft', 'Apple', 'IBM', 'Oracle', 'Amazon'}\n",
        "A = {19, 22, 24, 20, 25, 26}\n",
        "B = {19, 22, 20, 25, 26, 24, 28, 27}\n",
        "age = [22, 19, 24, 25, 26, 24, 25, 24]\n",
        "\n",
        "# Find the length of the set it_companies\n",
        "print(\"Length of it_companies:\", len(it_companies))\n",
        "\n",
        "# Add 'Twitter' to it_companies\n",
        "it_companies.add('Twitter')\n",
        "print(\"it_companies after adding 'Twitter':\", it_companies)\n",
        "\n",
        "# Insert multiple IT companies at once to the set it_companies\n",
        "it_companies.update(['LinkedIn', 'Netflix'])\n",
        "print(\"it_companies after adding multiple companies:\", it_companies)\n",
        "\n",
        "# Remove one of the companies from the set it_companies\n",
        "it_companies.remove('Netflix')\n",
        "print(\"it_companies after removing 'Netflix':\", it_companies)\n",
        "\n",
        "# What is the difference between remove and discard\n",
        "# 'remove' raises an error if the element is not present, while 'discard' does not raise an error\n",
        "it_companies.discard('Snapchat')  # Does not raise an error\n",
        "# it_companies.remove('Snapchat')  # Raises KeyError because 'Snapchat' is not in the set\n",
        "\n",
        "# Join A and B\n",
        "union_set = A.union(B)\n",
        "print(\"Union of A and B:\", union_set)\n",
        "\n",
        "# Find A intersection B\n",
        "intersection_set = A.intersection(B)\n",
        "print(\"Intersection of A and B:\", intersection_set)\n",
        "\n",
        "# Is A subset of B\n",
        "print(\"Is A subset of B:\", A.issubset(B))\n",
        "\n",
        "# Are A and B disjoint sets\n",
        "print(\"Are A and B disjoint sets:\", A.isdisjoint(B))\n",
        "\n",
        "# Join A with B and B with A\n",
        "A.update(B)\n",
        "B.update(A)\n",
        "print(\"Updated A:\", A)\n",
        "print(\"Updated B:\", B)\n",
        "\n",
        "# What is the symmetric difference between A and B\n",
        "symmetric_difference_set = A.symmetric_difference(B)\n",
        "print(\"Symmetric difference between A and B:\", symmetric_difference_set)\n",
        "\n",
        "# Delete the sets completely\n",
        "del it_companies, A, B\n",
        "\n",
        "# Convert the ages to a set and compare the length of the list and the set\n",
        "age_set = set(age)\n",
        "print(\"Length of age list:\", len(age))\n",
        "print(\"Length of age set:\", len(age_set))\n"
      ],
      "metadata": {
        "colab": {
          "base_uri": "https://localhost:8080/"
        },
        "id": "d0TCtsdWkz1h",
        "outputId": "7ecd617c-b669-4b7f-bedc-552eecad0f3d"
      },
      "execution_count": null,
      "outputs": [
        {
          "output_type": "stream",
          "name": "stdout",
          "text": [
            "Length of it_companies: 7\n",
            "it_companies after adding 'Twitter': {'Microsoft', 'Apple', 'IBM', 'Google', 'Amazon', 'Oracle', 'Twitter', 'Facebook'}\n",
            "it_companies after adding multiple companies: {'Oracle', 'IBM', 'Netflix', 'Facebook', 'Apple', 'LinkedIn', 'Twitter', 'Microsoft', 'Google', 'Amazon'}\n",
            "it_companies after removing 'Netflix': {'Oracle', 'IBM', 'Facebook', 'Apple', 'LinkedIn', 'Twitter', 'Microsoft', 'Google', 'Amazon'}\n",
            "Union of A and B: {19, 20, 22, 24, 25, 26, 27, 28}\n",
            "Intersection of A and B: {19, 20, 22, 24, 25, 26}\n",
            "Is A subset of B: True\n",
            "Are A and B disjoint sets: False\n",
            "Updated A: {19, 20, 22, 24, 25, 26, 27, 28}\n",
            "Updated B: {19, 20, 22, 24, 25, 26, 27, 28}\n",
            "Symmetric difference between A and B: set()\n",
            "Length of age list: 8\n",
            "Length of age set: 5\n"
          ]
        }
      ]
    },
    {
      "cell_type": "markdown",
      "source": [
        "The radius of a circle is 30 meters.\n",
        "• Calculate the area of a circle and assign the value to a variable name of _area_of_circle_\n",
        "• Calculate the circumference of a circle and assign the value to a variable name of\n",
        "_circum_of_circle_\n",
        "• Take radius as user input and calculate the area."
      ],
      "metadata": {
        "id": "vTJJMriSk-tV"
      }
    },
    {
      "cell_type": "code",
      "source": [
        "import math\n",
        "\n",
        "# Given radius\n",
        "radius = 30\n",
        "\n",
        "# Calculate the area of a circle\n",
        "area_of_circle = math.pi * radius**2\n",
        "\n",
        "# Calculate the circumference of a circle\n",
        "circum_of_circle = 2 * math.pi * radius\n",
        "\n",
        "# Print the calculated values\n",
        "print(\"Area of the circle:\", area_of_circle)\n",
        "print(\"Circumference of the circle:\", circum_of_circle)\n",
        "\n",
        "# Take radius as user input\n",
        "user_radius = float(input(\"Enter the radius of the circle (in meters): \"))\n",
        "\n",
        "# Calculate the area of the circle using user input radius\n",
        "user_area_of_circle = math.pi * user_radius**2\n",
        "print(\"Area of the circle with radius\", user_radius, \"is:\", user_area_of_circle)\n"
      ],
      "metadata": {
        "colab": {
          "base_uri": "https://localhost:8080/"
        },
        "id": "r9xorkC4lF8N",
        "outputId": "b0f9eac2-7afd-41bf-c350-9d56bd5d3e55"
      },
      "execution_count": null,
      "outputs": [
        {
          "output_type": "stream",
          "name": "stdout",
          "text": [
            "Area of the circle: 2827.4333882308138\n",
            "Circumference of the circle: 188.49555921538757\n",
            "Enter the radius of the circle (in meters): 30\n",
            "Area of the circle with radius 30.0 is: 2827.4333882308138\n"
          ]
        }
      ]
    },
    {
      "cell_type": "markdown",
      "source": [
        "Use a tab escape sequence to get the following lines.\n",
        "Name Age Country City\n",
        "Asabeneh 250 Finland Helsinki"
      ],
      "metadata": {
        "id": "xo34teZqlT4j"
      }
    },
    {
      "cell_type": "code",
      "source": [
        "print(\"Name\\tAge\\tCountry\\tCity\")\n",
        "print(\"Asabeneh\\t250\\tFinland\\tHelsinki\")\n"
      ],
      "metadata": {
        "colab": {
          "base_uri": "https://localhost:8080/"
        },
        "id": "GG6qNQBblTng",
        "outputId": "780bc289-0d93-4407-c591-0e6a5799f975"
      },
      "execution_count": null,
      "outputs": [
        {
          "output_type": "stream",
          "name": "stdout",
          "text": [
            "Name\tAge\tCountry\tCity\n",
            "Asabeneh\t250\tFinland\tHelsinki\n"
          ]
        }
      ]
    },
    {
      "cell_type": "markdown",
      "source": [
        "Use the string formatting method to display the following:\n",
        "radius = 10\n",
        "area = 3.14 * radius ** 2\n",
        "“The area of a circle with radius 10 is 314 meters square.”"
      ],
      "metadata": {
        "id": "KS4MOnsNlkdi"
      }
    },
    {
      "cell_type": "code",
      "source": [
        "radius = 10\n",
        "area = 3.14 * radius ** 2\n",
        "\n",
        "# Using string formatting method\n",
        "output = \"The area of a circle with radius {} is {} meters square.\".format(radius, area)\n",
        "print(output)\n"
      ],
      "metadata": {
        "colab": {
          "base_uri": "https://localhost:8080/"
        },
        "id": "DrfKKNoylewX",
        "outputId": "26ed580b-7d46-4298-d454-c6d6f026da7e"
      },
      "execution_count": null,
      "outputs": [
        {
          "output_type": "stream",
          "name": "stdout",
          "text": [
            "The area of a circle with radius 10 is 314.0 meters square.\n"
          ]
        }
      ]
    },
    {
      "cell_type": "code",
      "source": [
        "output = \"The area of a circle with radius {} is {:.2f} meters square.\".format(radius, area)\n",
        "print(output)\n"
      ],
      "metadata": {
        "colab": {
          "base_uri": "https://localhost:8080/"
        },
        "id": "Ub02KqyxlsNb",
        "outputId": "47c485ab-f0fc-439f-d43f-71cd247a2f6c"
      },
      "execution_count": null,
      "outputs": [
        {
          "output_type": "stream",
          "name": "stdout",
          "text": [
            "The area of a circle with radius 10 is 314.00 meters square.\n"
          ]
        }
      ]
    },
    {
      "cell_type": "markdown",
      "source": [
        "Write a program, which reads weights (lbs.) of N students into a list and convert these weights to\n",
        "kilograms in a separate list using Loop. N: No of students (Read input from user)\n",
        "Ex: L1: [150, 155, 145, 148]\n",
        "Output: [68.03, 70.3, 65.77, 67.13]"
      ],
      "metadata": {
        "id": "dh18HkGDlyTk"
      }
    },
    {
      "cell_type": "code",
      "source": [
        "# Read the number of students from the user\n",
        "N = int(input(\"Enter the number of students: \"))\n",
        "\n",
        "# Initialize an empty list to store the weights in lbs\n",
        "weights_lbs = []\n",
        "\n",
        "# Read the weights of N students into the list\n",
        "for i in range(N):\n",
        "    weight_lbs = float(input(\"Enter the weight of student {}: \".format(i+1)))\n",
        "    weights_lbs.append(weight_lbs)\n",
        "\n",
        "# Convert weights from lbs to kg and store them in a separate list\n",
        "weights_kg = []\n",
        "for weight_lbs in weights_lbs:\n",
        "    weight_kg = weight_lbs * 0.453592  # 1 lb = 0.453592 kg\n",
        "    weights_kg.append(round(weight_kg, 2))  # Round to two decimal places\n",
        "\n",
        "# Print the lists\n",
        "print(\"Weights in lbs:\", weights_lbs)\n",
        "print(\"Weights in kg:\", weights_kg)\n"
      ],
      "metadata": {
        "id": "UJAAcfDolzkb"
      },
      "execution_count": null,
      "outputs": []
    }
  ]
}